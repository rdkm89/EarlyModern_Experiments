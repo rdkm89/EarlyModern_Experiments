{
 "cells": [
  {
   "cell_type": "markdown",
   "metadata": {
    "ein.tags": "worksheet-0",
    "slideshow": {
     "slide_type": "-"
    }
   },
   "source": [
    "Experimental doc2vec classifier"
   ]
  },
  {
   "cell_type": "markdown",
   "metadata": {
    "ein.tags": "worksheet-0",
    "slideshow": {
     "slide_type": "-"
    }
   },
   "source": [
    "### Import packages etc"
   ]
  },
  {
   "cell_type": "code",
   "execution_count": 1,
   "metadata": {
    "autoscroll": false,
    "ein.hycell": false,
    "ein.tags": "worksheet-0",
    "slideshow": {
     "slide_type": "-"
    }
   },
   "outputs": [],
   "source": [
    "import numpy as np\n",
    "import pandas as pd\n",
    "import seaborn as sns\n",
    "import matplotlib.pyplot as plt\n",
    "import string, os, re, multiprocessing\n",
    "from tqdm import tqdm\n",
    "\n",
    "import nltk\n",
    "from nltk.corpus import stopwords\n",
    "from stop_words import get_stop_words\n",
    "\n",
    "import gensim\n",
    "from gensim.models.doc2vec import TaggedDocument\n",
    "from gensim.models import Doc2Vec\n",
    "\n",
    "from sklearn import utils\n",
    "from sklearn.model_selection import train_test_split\n",
    "from sklearn.metrics import accuracy_score, f1_score\n",
    "from sklearn.linear_model import LogisticRegression\n",
    "from sklearn.naive_bayes import MultinomialNB"
   ]
  },
  {
   "cell_type": "markdown",
   "metadata": {
    "ein.tags": "worksheet-0",
    "slideshow": {
     "slide_type": "-"
    }
   },
   "source": [
    "### Define various functons"
   ]
  },
  {
   "cell_type": "code",
   "execution_count": 79,
   "metadata": {
    "autoscroll": false,
    "ein.hycell": false,
    "ein.tags": "worksheet-0",
    "slideshow": {
     "slide_type": "-"
    }
   },
   "outputs": [],
   "source": [
    "def strip_formatting(df_row):\n",
    "    words = df_row.str.replace('[{}]'.format(string.punctuation), ' ')\n",
    "    lines = words.str.replace(\"\\n\", \" \")\n",
    "    cleaned = lines.str.lower()\n",
    "    return cleaned\n",
    "\n",
    "def splitter(row, n):\n",
    "    words = re.sub(\"[^\\w]\", \" \",  row).split()\n",
    "    output = [words[start:start+n] for start in range(0, len(words), n)]\n",
    "    return output\n",
    "\n",
    "def split_data_frame_list(df,\n",
    "                       target_column,\n",
    "                      output_type=float):\n",
    "    '''\n",
    "    Accepts a column with multiple types and splits list variables to several rows.\n",
    "\n",
    "    df: dataframe to split\n",
    "    target_column: the column containing the values to split\n",
    "    output_type: type of all outputs\n",
    "    returns: a dataframe with each entry for the target column separated, with each element moved into a new row.\n",
    "    The values in the other columns are duplicated across the newly divided rows.\n",
    "    '''\n",
    "    row_accumulator = []\n",
    "    def split_list_to_rows(row):\n",
    "        split_row = row[target_column]\n",
    "        if isinstance(split_row, list):\n",
    "          for s in split_row:\n",
    "              new_row = row.to_dict()\n",
    "              new_row[target_column] = s\n",
    "              row_accumulator.append(new_row)\n",
    "          if split_row == []:\n",
    "              new_row = row.to_dict()\n",
    "              new_row[target_column] = None\n",
    "              row_accumulator.append(new_row)\n",
    "        else:\n",
    "          new_row = row.to_dict()\n",
    "          new_row[target_column] = split_row\n",
    "          row_accumulator.append(new_row)\n",
    "    df.apply(split_list_to_rows, axis=1)\n",
    "    new_df = pd.DataFrame(row_accumulator)\n",
    "    return new_df\n",
    "\n",
    "def display_topics(model, feature_names, no_top_words):\n",
    "    for topic_idx, topic in enumerate(model.components_):\n",
    "        print(\"Topic %d:\" % (topic_idx))\n",
    "        print(\" \".join([feature_names[i]\n",
    "                        for i in topic.argsort()[:-no_top_words - 1:-1]]))\n",
    "\n",
    "def tokenize_text(text):\n",
    "    tokens = []\n",
    "    for sent in nltk.sent_tokenize(text):\n",
    "        for word in nltk.word_tokenize(sent):\n",
    "            if len(word) < 2:\n",
    "                continue\n",
    "            tokens.append(word.lower())\n",
    "    return tokens\n",
    "\n",
    "def vec_for_learning(model, tagged_docs):\n",
    "    sents = tagged_docs.values\n",
    "    targets, regressors = zip(*[(doc.tags[0], model.infer_vector(doc.words, steps=20)) for doc in sents])\n",
    "    return targets, regressors"
   ]
  },
  {
   "cell_type": "markdown",
   "metadata": {
    "ein.tags": "worksheet-0",
    "slideshow": {
     "slide_type": "-"
    }
   },
   "source": [
    "### Preprocessing step from other pipeline"
   ]
  },
  {
   "cell_type": "code",
   "execution_count": 80,
   "metadata": {
    "autoscroll": false,
    "ein.hycell": false,
    "ein.tags": "worksheet-0",
    "slideshow": {
     "slide_type": "-"
    }
   },
   "outputs": [],
   "source": [
    "# Import metadata as DF; drop files that are restricted (part of EEBO Phase II)\n",
    "metadata = pd.read_csv('/Users/au564346/Documents/research/LINK/data/LINK-master/dat/VEP_expanded_drama_1700_v2_txt/metadata/EM_Drama.Metadata.csv', sep=\";\")\n",
    "metadata = metadata[metadata.status != 'Restricted']"
   ]
  },
  {
   "cell_type": "code",
   "execution_count": 81,
   "metadata": {
    "autoscroll": false,
    "ein.hycell": false,
    "ein.tags": "worksheet-0",
    "slideshow": {
     "slide_type": "-"
    }
   },
   "outputs": [
    {
     "data": {
      "text/html": [
       "<div>\n",
       "<style scoped>\n",
       "    .dataframe tbody tr th:only-of-type {\n",
       "        vertical-align: middle;\n",
       "    }\n",
       "\n",
       "    .dataframe tbody tr th {\n",
       "        vertical-align: top;\n",
       "    }\n",
       "\n",
       "    .dataframe thead th {\n",
       "        text-align: right;\n",
       "    }\n",
       "</style>\n",
       "<table border=\"1\" class=\"dataframe\">\n",
       "  <thead>\n",
       "    <tr style=\"text-align: right;\">\n",
       "      <th></th>\n",
       "      <th>TCP</th>\n",
       "      <th>estc</th>\n",
       "      <th>Wiggins number</th>\n",
       "      <th>author</th>\n",
       "      <th>author 2</th>\n",
       "      <th>author 3</th>\n",
       "      <th>author 4</th>\n",
       "      <th>author 5</th>\n",
       "      <th>translator</th>\n",
       "      <th>adaptation</th>\n",
       "      <th>...</th>\n",
       "      <th>date of text used</th>\n",
       "      <th>play company 1</th>\n",
       "      <th>play company 2</th>\n",
       "      <th>theatre</th>\n",
       "      <th>metre</th>\n",
       "      <th>rhyme</th>\n",
       "      <th>notes</th>\n",
       "      <th>text_name</th>\n",
       "      <th>status</th>\n",
       "      <th>Unnamed: 33</th>\n",
       "    </tr>\n",
       "  </thead>\n",
       "  <tbody>\n",
       "    <tr>\n",
       "      <th>0</th>\n",
       "      <td>A36644</td>\n",
       "      <td>Wing D2305; ESTC R11613</td>\n",
       "      <td>NaN</td>\n",
       "      <td>'J.D.' (Dover, John?)</td>\n",
       "      <td>NaN</td>\n",
       "      <td>NaN</td>\n",
       "      <td>NaN</td>\n",
       "      <td>NaN</td>\n",
       "      <td>NaN</td>\n",
       "      <td>NaN</td>\n",
       "      <td>...</td>\n",
       "      <td>1674</td>\n",
       "      <td>King's</td>\n",
       "      <td>NaN</td>\n",
       "      <td>NaN</td>\n",
       "      <td>NaN</td>\n",
       "      <td>NaN</td>\n",
       "      <td>NaN</td>\n",
       "      <td>A36644.headed.txt</td>\n",
       "      <td>Free</td>\n",
       "      <td>NaN</td>\n",
       "    </tr>\n",
       "    <tr>\n",
       "      <th>2</th>\n",
       "      <td>A05801</td>\n",
       "      <td>S104360</td>\n",
       "      <td>NaN</td>\n",
       "      <td>A., R.</td>\n",
       "      <td>NaN</td>\n",
       "      <td>NaN</td>\n",
       "      <td>NaN</td>\n",
       "      <td>NaN</td>\n",
       "      <td>NaN</td>\n",
       "      <td>NaN</td>\n",
       "      <td>...</td>\n",
       "      <td>1615</td>\n",
       "      <td>Prince Charles's Men (first)</td>\n",
       "      <td>Prince Henry's Men</td>\n",
       "      <td>NaN</td>\n",
       "      <td>NaN</td>\n",
       "      <td>NaN</td>\n",
       "      <td>TCP transcription exists - have requested play...</td>\n",
       "      <td>A05801.headed.txt</td>\n",
       "      <td>Free</td>\n",
       "      <td>NaN</td>\n",
       "    </tr>\n",
       "    <tr>\n",
       "      <th>7</th>\n",
       "      <td>A18589</td>\n",
       "      <td>S104972</td>\n",
       "      <td>NaN</td>\n",
       "      <td>Amerie, Robert</td>\n",
       "      <td>Davies, Richard</td>\n",
       "      <td>NaN</td>\n",
       "      <td>NaN</td>\n",
       "      <td>NaN</td>\n",
       "      <td>NaN</td>\n",
       "      <td>NaN</td>\n",
       "      <td>...</td>\n",
       "      <td>1610</td>\n",
       "      <td>NaN</td>\n",
       "      <td>NaN</td>\n",
       "      <td>NaN</td>\n",
       "      <td>NaN</td>\n",
       "      <td>NaN</td>\n",
       "      <td>NaN</td>\n",
       "      <td>A18589.headed.txt</td>\n",
       "      <td>Free</td>\n",
       "      <td>NaN</td>\n",
       "    </tr>\n",
       "    <tr>\n",
       "      <th>8</th>\n",
       "      <td>A01513</td>\n",
       "      <td>S105691</td>\n",
       "      <td>419</td>\n",
       "      <td>Ariosto, Ludovico</td>\n",
       "      <td>NaN</td>\n",
       "      <td>NaN</td>\n",
       "      <td>NaN</td>\n",
       "      <td>NaN</td>\n",
       "      <td>Gascoigne, George</td>\n",
       "      <td>NaN</td>\n",
       "      <td>...</td>\n",
       "      <td>1573</td>\n",
       "      <td>NaN</td>\n",
       "      <td>NaN</td>\n",
       "      <td>Gray's Inn</td>\n",
       "      <td>prose</td>\n",
       "      <td>no</td>\n",
       "      <td>NaN</td>\n",
       "      <td>A01513.headed_005_play_001.txt</td>\n",
       "      <td>Free</td>\n",
       "      <td>NaN</td>\n",
       "    </tr>\n",
       "    <tr>\n",
       "      <th>9</th>\n",
       "      <td>A25808</td>\n",
       "      <td>R7554</td>\n",
       "      <td>NaN</td>\n",
       "      <td>Aristophanes</td>\n",
       "      <td>NaN</td>\n",
       "      <td>NaN</td>\n",
       "      <td>NaN</td>\n",
       "      <td>NaN</td>\n",
       "      <td>Randolph, Thomas; J., F.</td>\n",
       "      <td>NaN</td>\n",
       "      <td>...</td>\n",
       "      <td>1651</td>\n",
       "      <td>NaN</td>\n",
       "      <td>NaN</td>\n",
       "      <td>NaN</td>\n",
       "      <td>NaN</td>\n",
       "      <td>NaN</td>\n",
       "      <td>NaN</td>\n",
       "      <td>A25808.headed.txt</td>\n",
       "      <td>Free</td>\n",
       "      <td>NaN</td>\n",
       "    </tr>\n",
       "  </tbody>\n",
       "</table>\n",
       "<p>5 rows × 34 columns</p>\n",
       "</div>"
      ],
      "text/plain": [
       "      TCP                     estc Wiggins number                 author  \\\n",
       "0  A36644  Wing D2305; ESTC R11613            NaN  'J.D.' (Dover, John?)   \n",
       "2  A05801                  S104360            NaN                 A., R.   \n",
       "7  A18589                  S104972            NaN         Amerie, Robert   \n",
       "8  A01513                  S105691            419      Ariosto, Ludovico   \n",
       "9  A25808                    R7554            NaN           Aristophanes   \n",
       "\n",
       "          author 2 author 3 author 4 author 5                translator  \\\n",
       "0              NaN      NaN      NaN      NaN                       NaN   \n",
       "2              NaN      NaN      NaN      NaN                       NaN   \n",
       "7  Davies, Richard      NaN      NaN      NaN                       NaN   \n",
       "8              NaN      NaN      NaN      NaN         Gascoigne, George   \n",
       "9              NaN      NaN      NaN      NaN  Randolph, Thomas; J., F.   \n",
       "\n",
       "  adaptation     ...      date of text used                play company 1  \\\n",
       "0        NaN     ...                   1674                        King's   \n",
       "2        NaN     ...                   1615  Prince Charles's Men (first)   \n",
       "7        NaN     ...                   1610                           NaN   \n",
       "8        NaN     ...                   1573                           NaN   \n",
       "9        NaN     ...                   1651                           NaN   \n",
       "\n",
       "       play company 2     theatre  metre rhyme  \\\n",
       "0                 NaN         NaN    NaN   NaN   \n",
       "2  Prince Henry's Men         NaN    NaN   NaN   \n",
       "7                 NaN         NaN    NaN   NaN   \n",
       "8                 NaN  Gray's Inn  prose    no   \n",
       "9                 NaN         NaN    NaN   NaN   \n",
       "\n",
       "                                               notes  \\\n",
       "0                                                NaN   \n",
       "2  TCP transcription exists - have requested play...   \n",
       "7                                                NaN   \n",
       "8                                                NaN   \n",
       "9                                                NaN   \n",
       "\n",
       "                        text_name status  Unnamed: 33  \n",
       "0               A36644.headed.txt   Free          NaN  \n",
       "2               A05801.headed.txt   Free          NaN  \n",
       "7               A18589.headed.txt   Free          NaN  \n",
       "8  A01513.headed_005_play_001.txt   Free          NaN  \n",
       "9               A25808.headed.txt   Free          NaN  \n",
       "\n",
       "[5 rows x 34 columns]"
      ]
     },
     "execution_count": 81,
     "metadata": {},
     "output_type": "execute_result"
    }
   ],
   "source": [
    "metadata.head()"
   ]
  },
  {
   "cell_type": "code",
   "execution_count": 82,
   "metadata": {
    "autoscroll": false,
    "ein.hycell": false,
    "ein.tags": "worksheet-0",
    "slideshow": {
     "slide_type": "-"
    }
   },
   "outputs": [],
   "source": [
    "# Create DF of one play per line\n",
    "plays = pd.DataFrame(columns=['documents'])\n",
    "path = '/Users/au564346/Documents/research/LINK/data/drama_queens/Corpus without MA og anon'\n",
    "for filename in os.listdir(path):\n",
    "    if not filename.startswith('.'):\n",
    "        with open(os.path.join(path, filename)) as f:\n",
    "            text = f.read()\n",
    "            current_df = pd.DataFrame({'documents': [text]})\n",
    "            plays = plays.append(current_df, ignore_index=True)"
   ]
  },
  {
   "cell_type": "code",
   "execution_count": 83,
   "metadata": {
    "autoscroll": false,
    "ein.hycell": false,
    "ein.tags": "worksheet-0",
    "slideshow": {
     "slide_type": "-"
    }
   },
   "outputs": [],
   "source": [
    "# Join up plays with author and genre metadata\n",
    "plays['genre'] = metadata[\"genre\"].to_frame().reset_index(drop=True)\n",
    "plays['author'] = metadata[\"author\"].to_frame().reset_index(drop=True)\n",
    "plays['year'] = metadata[\"date of writing\"].to_frame().reset_index(drop=True).astype(int)"
   ]
  },
  {
   "cell_type": "code",
   "execution_count": 8,
   "metadata": {
    "autoscroll": false,
    "ein.hycell": false,
    "ein.tags": "worksheet-0",
    "slideshow": {
     "slide_type": "-"
    }
   },
   "outputs": [],
   "source": [
    "# Clean strings using strip_formatting function\n",
    "plays['text'] = [cleaned for cleaned in strip_formatting(plays[\"text\"])]"
   ]
  },
  {
   "cell_type": "code",
   "execution_count": 12,
   "metadata": {
    "autoscroll": false,
    "ein.hycell": false,
    "ein.tags": "worksheet-0",
    "slideshow": {
     "slide_type": "-"
    }
   },
   "outputs": [],
   "source": [
    "# Extract specifc subset of years\n",
    "years = list(range(1590, 1620))\n",
    "subset = plays.loc[plays.year.isin(years)].reset_index()\n",
    "del subset[\"index\"]\n",
    "# Split string into list of lists using splitter function\n",
    "subset['text'] = subset[\"text\"].apply(lambda x: splitter(x, 1000))\n",
    "# Explode DataFrame and keep author/genre metada in place\n",
    "corpus = split_data_frame_list(subset, target_column='text')\n",
    "# List of lists back to string\n",
    "corpus[\"text\"] = corpus[\"text\"].apply(lambda x: ' '.join(map(str, x)))"
   ]
  },
  {
   "cell_type": "code",
   "execution_count": 84,
   "metadata": {
    "autoscroll": false,
    "ein.hycell": false,
    "ein.tags": "worksheet-0",
    "scrolled": true,
    "slideshow": {
     "slide_type": "-"
    }
   },
   "outputs": [
    {
     "ename": "NameError",
     "evalue": "(\"name 'target_column' is not defined\", 'occurred at index 0')",
     "output_type": "error",
     "traceback": [
      "\u001b[0;31m---------------------------------------------------------------------------\u001b[0m",
      "\u001b[0;31mNameError\u001b[0m                                 Traceback (most recent call last)",
      "\u001b[0;32m<ipython-input-84-8b14662c1a73>\u001b[0m in \u001b[0;36m<module>\u001b[0;34m\u001b[0m\n\u001b[1;32m      4\u001b[0m \u001b[0mplays\u001b[0m\u001b[0;34m[\u001b[0m\u001b[0;34m'documents'\u001b[0m\u001b[0;34m]\u001b[0m \u001b[0;34m=\u001b[0m \u001b[0mplays\u001b[0m\u001b[0;34m[\u001b[0m\u001b[0;34m'documents'\u001b[0m\u001b[0;34m]\u001b[0m\u001b[0;34m.\u001b[0m\u001b[0mapply\u001b[0m\u001b[0;34m(\u001b[0m\u001b[0;32mlambda\u001b[0m \u001b[0mx\u001b[0m\u001b[0;34m:\u001b[0m \u001b[0msplitter\u001b[0m\u001b[0;34m(\u001b[0m\u001b[0mx\u001b[0m\u001b[0;34m,\u001b[0m \u001b[0;36m1000\u001b[0m\u001b[0;34m)\u001b[0m\u001b[0;34m)\u001b[0m\u001b[0;34m\u001b[0m\u001b[0;34m\u001b[0m\u001b[0m\n\u001b[1;32m      5\u001b[0m \u001b[0;31m# Explode DataFrame and keep author/genre metada in place\u001b[0m\u001b[0;34m\u001b[0m\u001b[0;34m\u001b[0m\u001b[0;34m\u001b[0m\u001b[0m\n\u001b[0;32m----> 6\u001b[0;31m \u001b[0mcorpus\u001b[0m \u001b[0;34m=\u001b[0m \u001b[0msplit_data_frame_list\u001b[0m\u001b[0;34m(\u001b[0m\u001b[0mplays\u001b[0m\u001b[0;34m,\u001b[0m \u001b[0mtarget_column\u001b[0m\u001b[0;34m=\u001b[0m\u001b[0;34m'documents'\u001b[0m\u001b[0;34m)\u001b[0m\u001b[0;34m\u001b[0m\u001b[0;34m\u001b[0m\u001b[0m\n\u001b[0m\u001b[1;32m      7\u001b[0m \u001b[0;31m# List of lists back to string\u001b[0m\u001b[0;34m\u001b[0m\u001b[0;34m\u001b[0m\u001b[0;34m\u001b[0m\u001b[0m\n\u001b[1;32m      8\u001b[0m \u001b[0mcorpus\u001b[0m\u001b[0;34m[\u001b[0m\u001b[0;34m'documents'\u001b[0m\u001b[0;34m]\u001b[0m \u001b[0;34m=\u001b[0m \u001b[0mcorpus\u001b[0m\u001b[0;34m[\u001b[0m\u001b[0;34m'documents'\u001b[0m\u001b[0;34m]\u001b[0m\u001b[0;34m.\u001b[0m\u001b[0mapply\u001b[0m\u001b[0;34m(\u001b[0m\u001b[0;32mlambda\u001b[0m \u001b[0mx\u001b[0m\u001b[0;34m:\u001b[0m \u001b[0;34m' '\u001b[0m\u001b[0;34m.\u001b[0m\u001b[0mjoin\u001b[0m\u001b[0;34m(\u001b[0m\u001b[0mmap\u001b[0m\u001b[0;34m(\u001b[0m\u001b[0mstr\u001b[0m\u001b[0;34m,\u001b[0m \u001b[0mx\u001b[0m\u001b[0;34m)\u001b[0m\u001b[0;34m)\u001b[0m\u001b[0;34m)\u001b[0m\u001b[0;34m\u001b[0m\u001b[0;34m\u001b[0m\u001b[0m\n",
      "\u001b[0;32m<ipython-input-79-cf1d0f7032a1>\u001b[0m in \u001b[0;36msplit_data_frame_list\u001b[0;34m(df, target_column, output_type)\u001b[0m\n\u001b[1;32m     39\u001b[0m     '''\n\u001b[1;32m     40\u001b[0m     \u001b[0mrow_accumulator\u001b[0m \u001b[0;34m=\u001b[0m \u001b[0;34m[\u001b[0m\u001b[0;34m]\u001b[0m\u001b[0;34m\u001b[0m\u001b[0;34m\u001b[0m\u001b[0m\n\u001b[0;32m---> 41\u001b[0;31m     \u001b[0mdf\u001b[0m\u001b[0;34m.\u001b[0m\u001b[0mapply\u001b[0m\u001b[0;34m(\u001b[0m\u001b[0msplit_list_to_rows\u001b[0m\u001b[0;34m,\u001b[0m \u001b[0maxis\u001b[0m\u001b[0;34m=\u001b[0m\u001b[0;36m1\u001b[0m\u001b[0;34m)\u001b[0m\u001b[0;34m\u001b[0m\u001b[0;34m\u001b[0m\u001b[0m\n\u001b[0m\u001b[1;32m     42\u001b[0m     \u001b[0mnew_df\u001b[0m \u001b[0;34m=\u001b[0m \u001b[0mpd\u001b[0m\u001b[0;34m.\u001b[0m\u001b[0mDataFrame\u001b[0m\u001b[0;34m(\u001b[0m\u001b[0mrow_accumulator\u001b[0m\u001b[0;34m)\u001b[0m\u001b[0;34m\u001b[0m\u001b[0;34m\u001b[0m\u001b[0m\n\u001b[1;32m     43\u001b[0m     \u001b[0;32mreturn\u001b[0m \u001b[0mnew_df\u001b[0m\u001b[0;34m\u001b[0m\u001b[0;34m\u001b[0m\u001b[0m\n",
      "\u001b[0;32m/usr/local/lib/python3.7/site-packages/pandas/core/frame.py\u001b[0m in \u001b[0;36mapply\u001b[0;34m(self, func, axis, broadcast, raw, reduce, result_type, args, **kwds)\u001b[0m\n\u001b[1;32m   6012\u001b[0m                          \u001b[0margs\u001b[0m\u001b[0;34m=\u001b[0m\u001b[0margs\u001b[0m\u001b[0;34m,\u001b[0m\u001b[0;34m\u001b[0m\u001b[0;34m\u001b[0m\u001b[0m\n\u001b[1;32m   6013\u001b[0m                          kwds=kwds)\n\u001b[0;32m-> 6014\u001b[0;31m         \u001b[0;32mreturn\u001b[0m \u001b[0mop\u001b[0m\u001b[0;34m.\u001b[0m\u001b[0mget_result\u001b[0m\u001b[0;34m(\u001b[0m\u001b[0;34m)\u001b[0m\u001b[0;34m\u001b[0m\u001b[0;34m\u001b[0m\u001b[0m\n\u001b[0m\u001b[1;32m   6015\u001b[0m \u001b[0;34m\u001b[0m\u001b[0m\n\u001b[1;32m   6016\u001b[0m     \u001b[0;32mdef\u001b[0m \u001b[0mapplymap\u001b[0m\u001b[0;34m(\u001b[0m\u001b[0mself\u001b[0m\u001b[0;34m,\u001b[0m \u001b[0mfunc\u001b[0m\u001b[0;34m)\u001b[0m\u001b[0;34m:\u001b[0m\u001b[0;34m\u001b[0m\u001b[0;34m\u001b[0m\u001b[0m\n",
      "\u001b[0;32m/usr/local/lib/python3.7/site-packages/pandas/core/apply.py\u001b[0m in \u001b[0;36mget_result\u001b[0;34m(self)\u001b[0m\n\u001b[1;32m    140\u001b[0m             \u001b[0;32mreturn\u001b[0m \u001b[0mself\u001b[0m\u001b[0;34m.\u001b[0m\u001b[0mapply_raw\u001b[0m\u001b[0;34m(\u001b[0m\u001b[0;34m)\u001b[0m\u001b[0;34m\u001b[0m\u001b[0;34m\u001b[0m\u001b[0m\n\u001b[1;32m    141\u001b[0m \u001b[0;34m\u001b[0m\u001b[0m\n\u001b[0;32m--> 142\u001b[0;31m         \u001b[0;32mreturn\u001b[0m \u001b[0mself\u001b[0m\u001b[0;34m.\u001b[0m\u001b[0mapply_standard\u001b[0m\u001b[0;34m(\u001b[0m\u001b[0;34m)\u001b[0m\u001b[0;34m\u001b[0m\u001b[0;34m\u001b[0m\u001b[0m\n\u001b[0m\u001b[1;32m    143\u001b[0m \u001b[0;34m\u001b[0m\u001b[0m\n\u001b[1;32m    144\u001b[0m     \u001b[0;32mdef\u001b[0m \u001b[0mapply_empty_result\u001b[0m\u001b[0;34m(\u001b[0m\u001b[0mself\u001b[0m\u001b[0;34m)\u001b[0m\u001b[0;34m:\u001b[0m\u001b[0;34m\u001b[0m\u001b[0;34m\u001b[0m\u001b[0m\n",
      "\u001b[0;32m/usr/local/lib/python3.7/site-packages/pandas/core/apply.py\u001b[0m in \u001b[0;36mapply_standard\u001b[0;34m(self)\u001b[0m\n\u001b[1;32m    246\u001b[0m \u001b[0;34m\u001b[0m\u001b[0m\n\u001b[1;32m    247\u001b[0m         \u001b[0;31m# compute the result using the series generator\u001b[0m\u001b[0;34m\u001b[0m\u001b[0;34m\u001b[0m\u001b[0;34m\u001b[0m\u001b[0m\n\u001b[0;32m--> 248\u001b[0;31m         \u001b[0mself\u001b[0m\u001b[0;34m.\u001b[0m\u001b[0mapply_series_generator\u001b[0m\u001b[0;34m(\u001b[0m\u001b[0;34m)\u001b[0m\u001b[0;34m\u001b[0m\u001b[0;34m\u001b[0m\u001b[0m\n\u001b[0m\u001b[1;32m    249\u001b[0m \u001b[0;34m\u001b[0m\u001b[0m\n\u001b[1;32m    250\u001b[0m         \u001b[0;31m# wrap results\u001b[0m\u001b[0;34m\u001b[0m\u001b[0;34m\u001b[0m\u001b[0;34m\u001b[0m\u001b[0m\n",
      "\u001b[0;32m/usr/local/lib/python3.7/site-packages/pandas/core/apply.py\u001b[0m in \u001b[0;36mapply_series_generator\u001b[0;34m(self)\u001b[0m\n\u001b[1;32m    275\u001b[0m             \u001b[0;32mtry\u001b[0m\u001b[0;34m:\u001b[0m\u001b[0;34m\u001b[0m\u001b[0;34m\u001b[0m\u001b[0m\n\u001b[1;32m    276\u001b[0m                 \u001b[0;32mfor\u001b[0m \u001b[0mi\u001b[0m\u001b[0;34m,\u001b[0m \u001b[0mv\u001b[0m \u001b[0;32min\u001b[0m \u001b[0menumerate\u001b[0m\u001b[0;34m(\u001b[0m\u001b[0mseries_gen\u001b[0m\u001b[0;34m)\u001b[0m\u001b[0;34m:\u001b[0m\u001b[0;34m\u001b[0m\u001b[0;34m\u001b[0m\u001b[0m\n\u001b[0;32m--> 277\u001b[0;31m                     \u001b[0mresults\u001b[0m\u001b[0;34m[\u001b[0m\u001b[0mi\u001b[0m\u001b[0;34m]\u001b[0m \u001b[0;34m=\u001b[0m \u001b[0mself\u001b[0m\u001b[0;34m.\u001b[0m\u001b[0mf\u001b[0m\u001b[0;34m(\u001b[0m\u001b[0mv\u001b[0m\u001b[0;34m)\u001b[0m\u001b[0;34m\u001b[0m\u001b[0;34m\u001b[0m\u001b[0m\n\u001b[0m\u001b[1;32m    278\u001b[0m                     \u001b[0mkeys\u001b[0m\u001b[0;34m.\u001b[0m\u001b[0mappend\u001b[0m\u001b[0;34m(\u001b[0m\u001b[0mv\u001b[0m\u001b[0;34m.\u001b[0m\u001b[0mname\u001b[0m\u001b[0;34m)\u001b[0m\u001b[0;34m\u001b[0m\u001b[0;34m\u001b[0m\u001b[0m\n\u001b[1;32m    279\u001b[0m             \u001b[0;32mexcept\u001b[0m \u001b[0mException\u001b[0m \u001b[0;32mas\u001b[0m \u001b[0me\u001b[0m\u001b[0;34m:\u001b[0m\u001b[0;34m\u001b[0m\u001b[0;34m\u001b[0m\u001b[0m\n",
      "\u001b[0;32m<ipython-input-79-cf1d0f7032a1>\u001b[0m in \u001b[0;36msplit_list_to_rows\u001b[0;34m(row)\u001b[0m\n\u001b[1;32m     11\u001b[0m \u001b[0;34m\u001b[0m\u001b[0m\n\u001b[1;32m     12\u001b[0m \u001b[0;32mdef\u001b[0m \u001b[0msplit_list_to_rows\u001b[0m\u001b[0;34m(\u001b[0m\u001b[0mrow\u001b[0m\u001b[0;34m)\u001b[0m\u001b[0;34m:\u001b[0m\u001b[0;34m\u001b[0m\u001b[0;34m\u001b[0m\u001b[0m\n\u001b[0;32m---> 13\u001b[0;31m     \u001b[0msplit_row\u001b[0m \u001b[0;34m=\u001b[0m \u001b[0mrow\u001b[0m\u001b[0;34m[\u001b[0m\u001b[0mtarget_column\u001b[0m\u001b[0;34m]\u001b[0m\u001b[0;34m\u001b[0m\u001b[0;34m\u001b[0m\u001b[0m\n\u001b[0m\u001b[1;32m     14\u001b[0m     \u001b[0;32mif\u001b[0m \u001b[0misinstance\u001b[0m\u001b[0;34m(\u001b[0m\u001b[0msplit_row\u001b[0m\u001b[0;34m,\u001b[0m \u001b[0mlist\u001b[0m\u001b[0;34m)\u001b[0m\u001b[0;34m:\u001b[0m\u001b[0;34m\u001b[0m\u001b[0;34m\u001b[0m\u001b[0m\n\u001b[1;32m     15\u001b[0m         \u001b[0;32mfor\u001b[0m \u001b[0ms\u001b[0m \u001b[0;32min\u001b[0m \u001b[0msplit_row\u001b[0m\u001b[0;34m:\u001b[0m\u001b[0;34m\u001b[0m\u001b[0;34m\u001b[0m\u001b[0m\n",
      "\u001b[0;31mNameError\u001b[0m: (\"name 'target_column' is not defined\", 'occurred at index 0')"
     ]
    }
   ],
   "source": [
    "## This can probably be rewritten as a function\n",
    "## Could be including in split_data_frame_list function?\n",
    "# Split string into list of lists using splitter function\n",
    "plays['documents'] = plays['documents'].apply(lambda x: splitter(x, 1000))\n",
    "# Explode DataFrame and keep author/genre metada in place\n",
    "corpus = split_data_frame_list(plays, target_column='documents')\n",
    "# List of lists back to string\n",
    "corpus['documents'] = corpus['documents'].apply(lambda x: ' '.join(map(str, x)))"
   ]
  },
  {
   "cell_type": "code",
   "execution_count": 73,
   "metadata": {},
   "outputs": [
    {
     "data": {
      "text/html": [
       "<div>\n",
       "<style scoped>\n",
       "    .dataframe tbody tr th:only-of-type {\n",
       "        vertical-align: middle;\n",
       "    }\n",
       "\n",
       "    .dataframe tbody tr th {\n",
       "        vertical-align: top;\n",
       "    }\n",
       "\n",
       "    .dataframe thead th {\n",
       "        text-align: right;\n",
       "    }\n",
       "</style>\n",
       "<table border=\"1\" class=\"dataframe\">\n",
       "  <thead>\n",
       "    <tr style=\"text-align: right;\">\n",
       "      <th></th>\n",
       "      <th>author</th>\n",
       "      <th>documents</th>\n",
       "      <th>genre</th>\n",
       "      <th>year</th>\n",
       "    </tr>\n",
       "  </thead>\n",
       "  <tbody>\n",
       "    <tr>\n",
       "      <th>0</th>\n",
       "      <td>'J.D.' (Dover, John?)</td>\n",
       "      <td>THough Plays and Prologues never did more abou...</td>\n",
       "      <td>CO</td>\n",
       "      <td>1674</td>\n",
       "    </tr>\n",
       "    <tr>\n",
       "      <th>1</th>\n",
       "      <td>'J.D.' (Dover, John?)</td>\n",
       "      <td>for ought I can perceive to leave me a bent Ni...</td>\n",
       "      <td>CO</td>\n",
       "      <td>1674</td>\n",
       "    </tr>\n",
       "    <tr>\n",
       "      <th>2</th>\n",
       "      <td>'J.D.' (Dover, John?)</td>\n",
       "      <td>out of Contribution but by taking up his Fathe...</td>\n",
       "      <td>CO</td>\n",
       "      <td>1674</td>\n",
       "    </tr>\n",
       "    <tr>\n",
       "      <th>3</th>\n",
       "      <td>'J.D.' (Dover, John?)</td>\n",
       "      <td>the Danger of the Times and some other Obstruc...</td>\n",
       "      <td>CO</td>\n",
       "      <td>1674</td>\n",
       "    </tr>\n",
       "    <tr>\n",
       "      <th>4</th>\n",
       "      <td>'J.D.' (Dover, John?)</td>\n",
       "      <td>showed thee this bewitching Name at the bottom...</td>\n",
       "      <td>CO</td>\n",
       "      <td>1674</td>\n",
       "    </tr>\n",
       "  </tbody>\n",
       "</table>\n",
       "</div>"
      ],
      "text/plain": [
       "                  author                                          documents  \\\n",
       "0  'J.D.' (Dover, John?)  THough Plays and Prologues never did more abou...   \n",
       "1  'J.D.' (Dover, John?)  for ought I can perceive to leave me a bent Ni...   \n",
       "2  'J.D.' (Dover, John?)  out of Contribution but by taking up his Fathe...   \n",
       "3  'J.D.' (Dover, John?)  the Danger of the Times and some other Obstruc...   \n",
       "4  'J.D.' (Dover, John?)  showed thee this bewitching Name at the bottom...   \n",
       "\n",
       "  genre  year  \n",
       "0    CO  1674  \n",
       "1    CO  1674  \n",
       "2    CO  1674  \n",
       "3    CO  1674  \n",
       "4    CO  1674  "
      ]
     },
     "execution_count": 73,
     "metadata": {},
     "output_type": "execute_result"
    }
   ],
   "source": [
    "corpus.head()"
   ]
  },
  {
   "cell_type": "markdown",
   "metadata": {
    "ein.tags": "worksheet-0",
    "slideshow": {
     "slide_type": "-"
    }
   },
   "source": [
    "### Corpus size and visualise"
   ]
  },
  {
   "cell_type": "code",
   "execution_count": 52,
   "metadata": {
    "autoscroll": false,
    "ein.hycell": false,
    "ein.tags": "worksheet-0",
    "slideshow": {
     "slide_type": "-"
    }
   },
   "outputs": [
    {
     "data": {
      "text/plain": [
       "15249283"
      ]
     },
     "execution_count": 52,
     "metadata": {},
     "output_type": "execute_result"
    }
   ],
   "source": [
    "corpus['\"documents\"'].apply(lambda x: len(x.split(' '))).sum()"
   ]
  },
  {
   "cell_type": "code",
   "execution_count": 10,
   "metadata": {
    "autoscroll": false,
    "ein.hycell": false,
    "ein.tags": "worksheet-0",
    "slideshow": {
     "slide_type": "-"
    }
   },
   "outputs": [
    {
     "data": {
      "image/png": "[encoded data removed]",
      "text/plain": [
       "<Figure size 864x288 with 1 Axes>"
      ]
     },
     "metadata": {
      "needs_background": "light"
     },
     "output_type": "display_data"
    }
   ],
   "source": [
    "cnt_aut = corpus['author'].value_counts()\n",
    "plt.figure(figsize=(12,4))\n",
    "sns.barplot(cnt_aut.index, cnt_aut.values, alpha=0.8)\n",
    "plt.ylabel('Number of Occurrences', fontsize=12)\n",
    "plt.xlabel('Author', fontsize=12)\n",
    "plt.xticks(rotation=90, fontsize=4)\n",
    "plt.show();"
   ]
  },
  {
   "cell_type": "markdown",
   "metadata": {
    "ein.tags": "worksheet-0",
    "slideshow": {
     "slide_type": "-"
    }
   },
   "source": [
    "### Stopwords"
   ]
  },
  {
   "cell_type": "code",
   "execution_count": 12,
   "metadata": {
    "autoscroll": false,
    "ein.hycell": false,
    "ein.tags": "worksheet-0",
    "slideshow": {
     "slide_type": "-"
    }
   },
   "outputs": [],
   "source": [
    "# User defined stopwords\n",
    "# Create list of stopwords from various sources\n",
    "stop_1 = get_stop_words(\"english\")\n",
    "stop_2 = stopwords.words(\"english\")\n",
    "#Combine as one list\n",
    "stops = list(set(stop_1 + stop_2))\n",
    "# Extend as you see fit!\n",
    "stops.extend(['thou', 'thy','thee', 'sir', 'lord', 'lady', 'will', 'shall', 's', 'art'])\n",
    "# Stopwords\n",
    "corpus[\"text\"] = corpus[\"text\"].apply(lambda x: \" \".join([item for item in (str(x)).split(\" \") if item not in stops]))\n",
    "corpus.to_csv(\"/Users/au564346/Desktop/corpus.csv\", header=True)"
   ]
  },
  {
   "cell_type": "markdown",
   "metadata": {
    "ein.tags": "worksheet-0",
    "slideshow": {
     "slide_type": "-"
    }
   },
   "source": [
    "### Split into train and test\n",
    "\n",
    "Test with oversample?"
   ]
  },
  {
   "cell_type": "code",
   "execution_count": 13,
   "metadata": {
    "autoscroll": false,
    "ein.hycell": false,
    "ein.tags": "worksheet-0",
    "slideshow": {
     "slide_type": "-"
    }
   },
   "outputs": [],
   "source": [
    "train, test = train_test_split(corpus, test_size=0.2, random_state=42)"
   ]
  },
  {
   "cell_type": "code",
   "execution_count": 14,
   "metadata": {
    "autoscroll": false,
    "ein.hycell": false,
    "ein.tags": "worksheet-0",
    "scrolled": true,
    "slideshow": {
     "slide_type": "-"
    }
   },
   "outputs": [
    {
     "data": {
      "text/html": [
       "<div>\n",
       "<style scoped>\n",
       "    .dataframe tbody tr th:only-of-type {\n",
       "        vertical-align: middle;\n",
       "    }\n",
       "\n",
       "    .dataframe tbody tr th {\n",
       "        vertical-align: top;\n",
       "    }\n",
       "\n",
       "    .dataframe thead th {\n",
       "        text-align: right;\n",
       "    }\n",
       "</style>\n",
       "<table border=\"1\" class=\"dataframe\">\n",
       "  <thead>\n",
       "    <tr style=\"text-align: right;\">\n",
       "      <th></th>\n",
       "      <th>author</th>\n",
       "      <th>genre</th>\n",
       "      <th>text</th>\n",
       "      <th>year</th>\n",
       "    </tr>\n",
       "  </thead>\n",
       "  <tbody>\n",
       "    <tr>\n",
       "      <th>314</th>\n",
       "      <td>Greville, Fulke</td>\n",
       "      <td>TR</td>\n",
       "      <td>boiling beating waves passion w calm esculapiu...</td>\n",
       "      <td>1596</td>\n",
       "    </tr>\n",
       "    <tr>\n",
       "      <th>4284</th>\n",
       "      <td>Middleton, Thomas</td>\n",
       "      <td>CO</td>\n",
       "      <td>living look upon death wisdom forget endeare l...</td>\n",
       "      <td>1614</td>\n",
       "    </tr>\n",
       "    <tr>\n",
       "      <th>734</th>\n",
       "      <td>Jonson, Ben</td>\n",
       "      <td>EN</td>\n",
       "      <td>death seize infamy let death come tamely suffe...</td>\n",
       "      <td>1604</td>\n",
       "    </tr>\n",
       "    <tr>\n",
       "      <th>151</th>\n",
       "      <td>Shakespeare, William</td>\n",
       "      <td>TC</td>\n",
       "      <td>punishments men applauded prescribe laws force...</td>\n",
       "      <td>1613</td>\n",
       "    </tr>\n",
       "    <tr>\n",
       "      <th>109</th>\n",
       "      <td>Fletcher, John</td>\n",
       "      <td>CO</td>\n",
       "      <td>dotage withered brain penthea forbad presence ...</td>\n",
       "      <td>1611</td>\n",
       "    </tr>\n",
       "    <tr>\n",
       "      <th>596</th>\n",
       "      <td>Barnes, Barnabe</td>\n",
       "      <td>TR</td>\n",
       "      <td>kill bind alive windore hang forth devising mo...</td>\n",
       "      <td>1606</td>\n",
       "    </tr>\n",
       "    <tr>\n",
       "      <th>2347</th>\n",
       "      <td>Shakespeare, William</td>\n",
       "      <td>HI</td>\n",
       "      <td>purpose often intelligence yet bridle prevail ...</td>\n",
       "      <td>1599</td>\n",
       "    </tr>\n",
       "    <tr>\n",
       "      <th>3237</th>\n",
       "      <td>Chapman, George</td>\n",
       "      <td>CO</td>\n",
       "      <td>self creature therefore sooner let know may us...</td>\n",
       "      <td>1605</td>\n",
       "    </tr>\n",
       "    <tr>\n",
       "      <th>2118</th>\n",
       "      <td>Shakespeare, William</td>\n",
       "      <td>CO</td>\n",
       "      <td>men milisent suffer spiders chamber count prof...</td>\n",
       "      <td>1598</td>\n",
       "    </tr>\n",
       "    <tr>\n",
       "      <th>3281</th>\n",
       "      <td>Chapman, George</td>\n",
       "      <td>CO</td>\n",
       "      <td>matches soever guardians make em hope father f...</td>\n",
       "      <td>1602</td>\n",
       "    </tr>\n",
       "    <tr>\n",
       "      <th>969</th>\n",
       "      <td>Anon.</td>\n",
       "      <td>TR</td>\n",
       "      <td>jealous anger fearful arm poured rigor sinful ...</td>\n",
       "      <td>1590</td>\n",
       "    </tr>\n",
       "    <tr>\n",
       "      <th>1563</th>\n",
       "      <td>Belchier, Dabridgcourt</td>\n",
       "      <td>CO</td>\n",
       "      <td>trouble content kind expense longer sojourne i...</td>\n",
       "      <td>1618</td>\n",
       "    </tr>\n",
       "    <tr>\n",
       "      <th>3194</th>\n",
       "      <td>Chapman, George</td>\n",
       "      <td>TR</td>\n",
       "      <td>fortune thad better far fallen amongst friends...</td>\n",
       "      <td>1607</td>\n",
       "    </tr>\n",
       "    <tr>\n",
       "      <th>175</th>\n",
       "      <td>Tasso, Torquato</td>\n",
       "      <td>TC</td>\n",
       "      <td>abhorde therefore good lord since haste plaste...</td>\n",
       "      <td>1591</td>\n",
       "    </tr>\n",
       "    <tr>\n",
       "      <th>4027</th>\n",
       "      <td>Fletcher, John</td>\n",
       "      <td>CO</td>\n",
       "      <td>mercy commands service pray lord second suite ...</td>\n",
       "      <td>1614</td>\n",
       "    </tr>\n",
       "    <tr>\n",
       "      <th>4223</th>\n",
       "      <td>Dekker, Thomas</td>\n",
       "      <td>TR</td>\n",
       "      <td>constant faith mirtillo mrs since true amyntas...</td>\n",
       "      <td>1600</td>\n",
       "    </tr>\n",
       "    <tr>\n",
       "      <th>2297</th>\n",
       "      <td>Shakespeare, William</td>\n",
       "      <td>HI</td>\n",
       "      <td>hollow canes whose pouder rape seed charged tu...</td>\n",
       "      <td>1596</td>\n",
       "    </tr>\n",
       "    <tr>\n",
       "      <th>3004</th>\n",
       "      <td>Cumber, John (?)</td>\n",
       "      <td>CO</td>\n",
       "      <td>trust tell patience used money hand come come ...</td>\n",
       "      <td>1619</td>\n",
       "    </tr>\n",
       "    <tr>\n",
       "      <th>1057</th>\n",
       "      <td>Beaumont, Francis</td>\n",
       "      <td>CO</td>\n",
       "      <td>tombs half rot searcloaths scrapes dry gums bl...</td>\n",
       "      <td>1607</td>\n",
       "    </tr>\n",
       "    <tr>\n",
       "      <th>1438</th>\n",
       "      <td>Middleton, Thomas</td>\n",
       "      <td>CO</td>\n",
       "      <td>woman jar tongues weapons words blows war buff...</td>\n",
       "      <td>1603</td>\n",
       "    </tr>\n",
       "    <tr>\n",
       "      <th>3931</th>\n",
       "      <td>Anon.</td>\n",
       "      <td>TR</td>\n",
       "      <td>look brave foe durst stay german trumpets blew...</td>\n",
       "      <td>1590</td>\n",
       "    </tr>\n",
       "    <tr>\n",
       "      <th>1424</th>\n",
       "      <td>Middleton, Thomas</td>\n",
       "      <td>CO</td>\n",
       "      <td>must life closde wise achitophel whose counsel...</td>\n",
       "      <td>1604</td>\n",
       "    </tr>\n",
       "    <tr>\n",
       "      <th>744</th>\n",
       "      <td>Jonson, Ben</td>\n",
       "      <td>EN</td>\n",
       "      <td>bounty drop upon us find entrance refuse summo...</td>\n",
       "      <td>1604</td>\n",
       "    </tr>\n",
       "    <tr>\n",
       "      <th>800</th>\n",
       "      <td>Jonson, Ben</td>\n",
       "      <td>MA</td>\n",
       "      <td>reported lorenzo wrongst hieronimo suits towar...</td>\n",
       "      <td>1608</td>\n",
       "    </tr>\n",
       "    <tr>\n",
       "      <th>274</th>\n",
       "      <td>Greene, Robert</td>\n",
       "      <td>HI</td>\n",
       "      <td>plain set soch gaudee usage show brought among...</td>\n",
       "      <td>1590</td>\n",
       "    </tr>\n",
       "    <tr>\n",
       "      <th>2407</th>\n",
       "      <td>Shakespeare, William</td>\n",
       "      <td>HI</td>\n",
       "      <td>interlude called lusty iuuentus lively describ...</td>\n",
       "      <td>1591</td>\n",
       "    </tr>\n",
       "    <tr>\n",
       "      <th>2470</th>\n",
       "      <td>Shakespeare, William</td>\n",
       "      <td>TR</td>\n",
       "      <td>banished grieved much hear sentence ha ha demo...</td>\n",
       "      <td>1592</td>\n",
       "    </tr>\n",
       "    <tr>\n",
       "      <th>4118</th>\n",
       "      <td>Daborne, Robert</td>\n",
       "      <td>TC</td>\n",
       "      <td>makes excellent must render miserable forgiven...</td>\n",
       "      <td>1615</td>\n",
       "    </tr>\n",
       "    <tr>\n",
       "      <th>2341</th>\n",
       "      <td>Shakespeare, William</td>\n",
       "      <td>HI</td>\n",
       "      <td>much queens majesty garment watchet sattine st...</td>\n",
       "      <td>1597</td>\n",
       "    </tr>\n",
       "    <tr>\n",
       "      <th>4179</th>\n",
       "      <td>Middleton, Thomas</td>\n",
       "      <td>CO</td>\n",
       "      <td>modern fools well tell call fool must confess ...</td>\n",
       "      <td>1615</td>\n",
       "    </tr>\n",
       "    <tr>\n",
       "      <th>...</th>\n",
       "      <td>...</td>\n",
       "      <td>...</td>\n",
       "      <td>...</td>\n",
       "      <td>...</td>\n",
       "    </tr>\n",
       "    <tr>\n",
       "      <th>486</th>\n",
       "      <td>Heywood, Thomas</td>\n",
       "      <td>TC</td>\n",
       "      <td>psiche torn del ght rudely rent cupids paradis...</td>\n",
       "      <td>1612</td>\n",
       "    </tr>\n",
       "    <tr>\n",
       "      <th>3020</th>\n",
       "      <td>Cumber, John (?)</td>\n",
       "      <td>CO</td>\n",
       "      <td>leticia deserve made old fond blockhead one wa...</td>\n",
       "      <td>1619</td>\n",
       "    </tr>\n",
       "    <tr>\n",
       "      <th>2844</th>\n",
       "      <td>Webster, John</td>\n",
       "      <td>TC</td>\n",
       "      <td>grace appointed chief colonel companies mustre...</td>\n",
       "      <td>1619</td>\n",
       "    </tr>\n",
       "    <tr>\n",
       "      <th>3844</th>\n",
       "      <td>Dekker, Thomas</td>\n",
       "      <td>CO</td>\n",
       "      <td>past rall sports give way pleasures nobler qua...</td>\n",
       "      <td>1599</td>\n",
       "    </tr>\n",
       "    <tr>\n",
       "      <th>1867</th>\n",
       "      <td>Rowley, Samuel</td>\n",
       "      <td>HI</td>\n",
       "      <td>othello mind lady amen go seek cassio walk fin...</td>\n",
       "      <td>1604</td>\n",
       "    </tr>\n",
       "    <tr>\n",
       "      <th>139</th>\n",
       "      <td>Shakespeare, William</td>\n",
       "      <td>TC</td>\n",
       "      <td>amoretta like issue progenitors imagine rich s...</td>\n",
       "      <td>1613</td>\n",
       "    </tr>\n",
       "    <tr>\n",
       "      <th>978</th>\n",
       "      <td>Anon.</td>\n",
       "      <td>TR</td>\n",
       "      <td>like king speak ah cruel brat sprung tyrants l...</td>\n",
       "      <td>1590</td>\n",
       "    </tr>\n",
       "    <tr>\n",
       "      <th>2387</th>\n",
       "      <td>Shakespeare, William</td>\n",
       "      <td>HI</td>\n",
       "      <td>prepare galowes day upon desire blood spill ve...</td>\n",
       "      <td>1591</td>\n",
       "    </tr>\n",
       "    <tr>\n",
       "      <th>3101</th>\n",
       "      <td>Campion, Thomas</td>\n",
       "      <td>MA</td>\n",
       "      <td>know thank stars done fooleries fooleries thin...</td>\n",
       "      <td>1613</td>\n",
       "    </tr>\n",
       "    <tr>\n",
       "      <th>266</th>\n",
       "      <td>Greene, Robert</td>\n",
       "      <td>HI</td>\n",
       "      <td>glory attempt entreat prayer since deny arm lo...</td>\n",
       "      <td>1591</td>\n",
       "    </tr>\n",
       "    <tr>\n",
       "      <th>2475</th>\n",
       "      <td>Shakespeare, William</td>\n",
       "      <td>TR</td>\n",
       "      <td>wedding ring ne remore lie divorce truly kept ...</td>\n",
       "      <td>1592</td>\n",
       "    </tr>\n",
       "    <tr>\n",
       "      <th>3667</th>\n",
       "      <td>Day, John</td>\n",
       "      <td>CO</td>\n",
       "      <td>heighten learning experience may learn arts sc...</td>\n",
       "      <td>1604</td>\n",
       "    </tr>\n",
       "    <tr>\n",
       "      <th>63</th>\n",
       "      <td>Fletcher, John</td>\n",
       "      <td>TR</td>\n",
       "      <td>power make amoret though weary rise nimbly cou...</td>\n",
       "      <td>1617</td>\n",
       "    </tr>\n",
       "    <tr>\n",
       "      <th>1289</th>\n",
       "      <td>Marston, John</td>\n",
       "      <td>TR</td>\n",
       "      <td>good know dispatch first better term faith amo...</td>\n",
       "      <td>1600</td>\n",
       "    </tr>\n",
       "    <tr>\n",
       "      <th>1330</th>\n",
       "      <td>Field, Nathan</td>\n",
       "      <td>TR</td>\n",
       "      <td>deigne break temperance owe life command st pl...</td>\n",
       "      <td>1619</td>\n",
       "    </tr>\n",
       "    <tr>\n",
       "      <th>3875</th>\n",
       "      <td>Dekker, Thomas</td>\n",
       "      <td>EN</td>\n",
       "      <td>scorns money gone thus pride still beauty dwel...</td>\n",
       "      <td>1612</td>\n",
       "    </tr>\n",
       "    <tr>\n",
       "      <th>2069</th>\n",
       "      <td>Shakespeare, William</td>\n",
       "      <td>CO</td>\n",
       "      <td>follow blessed guide holy guardian lead good a...</td>\n",
       "      <td>1597</td>\n",
       "    </tr>\n",
       "    <tr>\n",
       "      <th>2250</th>\n",
       "      <td>Shakespeare, William</td>\n",
       "      <td>CO</td>\n",
       "      <td>tomb one hand friend digs grave think feel wei...</td>\n",
       "      <td>1603</td>\n",
       "    </tr>\n",
       "    <tr>\n",
       "      <th>1188</th>\n",
       "      <td>Lyly, John</td>\n",
       "      <td>CO</td>\n",
       "      <td>come land strange fish leave element ask thing...</td>\n",
       "      <td>1593</td>\n",
       "    </tr>\n",
       "    <tr>\n",
       "      <th>3971</th>\n",
       "      <td>Anon.</td>\n",
       "      <td>CO</td>\n",
       "      <td>engage laws altars true gold altars falsehood ...</td>\n",
       "      <td>1590</td>\n",
       "    </tr>\n",
       "    <tr>\n",
       "      <th>1391</th>\n",
       "      <td>Middleton, Thomas</td>\n",
       "      <td>MA</td>\n",
       "      <td>l lieutenant gloucester l mortim r honor sover...</td>\n",
       "      <td>1619</td>\n",
       "    </tr>\n",
       "    <tr>\n",
       "      <th>3298</th>\n",
       "      <td>Chapman, George</td>\n",
       "      <td>MA</td>\n",
       "      <td>powerful majesty may behold divinity king may ...</td>\n",
       "      <td>1613</td>\n",
       "    </tr>\n",
       "    <tr>\n",
       "      <th>3384</th>\n",
       "      <td>Chapman, George</td>\n",
       "      <td>CO</td>\n",
       "      <td>earth heavens beings chaos produced rose rebel...</td>\n",
       "      <td>1604</td>\n",
       "    </tr>\n",
       "    <tr>\n",
       "      <th>2554</th>\n",
       "      <td>Shakespeare, William</td>\n",
       "      <td>TR</td>\n",
       "      <td>ladies lucar love conscience care serve devil ...</td>\n",
       "      <td>1606</td>\n",
       "    </tr>\n",
       "    <tr>\n",
       "      <th>3903</th>\n",
       "      <td>Dekker, Thomas</td>\n",
       "      <td>HI</td>\n",
       "      <td>make stay long made child cried child child go...</td>\n",
       "      <td>1602</td>\n",
       "    </tr>\n",
       "    <tr>\n",
       "      <th>2812</th>\n",
       "      <td>Tomkis, Thomas</td>\n",
       "      <td>CO</td>\n",
       "      <td>marriage vows whore vestall preserved quickeni...</td>\n",
       "      <td>1602</td>\n",
       "    </tr>\n",
       "    <tr>\n",
       "      <th>2227</th>\n",
       "      <td>Shakespeare, William</td>\n",
       "      <td>CO</td>\n",
       "      <td>candell light bring tite away done anon nay ta...</td>\n",
       "      <td>1590</td>\n",
       "    </tr>\n",
       "    <tr>\n",
       "      <th>103</th>\n",
       "      <td>Fletcher, John</td>\n",
       "      <td>CO</td>\n",
       "      <td>may never see go e tear veil politic french st...</td>\n",
       "      <td>1611</td>\n",
       "    </tr>\n",
       "    <tr>\n",
       "      <th>3590</th>\n",
       "      <td>Daniel, Samuel</td>\n",
       "      <td>TR</td>\n",
       "      <td>breath draw part kisses pierced meto heart suc...</td>\n",
       "      <td>1593</td>\n",
       "    </tr>\n",
       "    <tr>\n",
       "      <th>1907</th>\n",
       "      <td>Rowley, William</td>\n",
       "      <td>CO</td>\n",
       "      <td>upon ye cuckold cuckold lies lady lady lies ye...</td>\n",
       "      <td>1611</td>\n",
       "    </tr>\n",
       "  </tbody>\n",
       "</table>\n",
       "<p>864 rows × 4 columns</p>\n",
       "</div>"
      ],
      "text/plain": [
       "                      author genre  \\\n",
       "314          Greville, Fulke    TR   \n",
       "4284       Middleton, Thomas    CO   \n",
       "734              Jonson, Ben    EN   \n",
       "151     Shakespeare, William    TC   \n",
       "109           Fletcher, John    CO   \n",
       "596          Barnes, Barnabe    TR   \n",
       "2347    Shakespeare, William    HI   \n",
       "3237         Chapman, George    CO   \n",
       "2118    Shakespeare, William    CO   \n",
       "3281         Chapman, George    CO   \n",
       "969                    Anon.    TR   \n",
       "1563  Belchier, Dabridgcourt    CO   \n",
       "3194         Chapman, George    TR   \n",
       "175          Tasso, Torquato    TC   \n",
       "4027          Fletcher, John    CO   \n",
       "4223          Dekker, Thomas    TR   \n",
       "2297    Shakespeare, William    HI   \n",
       "3004        Cumber, John (?)    CO   \n",
       "1057       Beaumont, Francis    CO   \n",
       "1438       Middleton, Thomas    CO   \n",
       "3931                   Anon.    TR   \n",
       "1424       Middleton, Thomas    CO   \n",
       "744              Jonson, Ben    EN   \n",
       "800              Jonson, Ben    MA   \n",
       "274           Greene, Robert    HI   \n",
       "2407    Shakespeare, William    HI   \n",
       "2470    Shakespeare, William    TR   \n",
       "4118         Daborne, Robert    TC   \n",
       "2341    Shakespeare, William    HI   \n",
       "4179       Middleton, Thomas    CO   \n",
       "...                      ...   ...   \n",
       "486          Heywood, Thomas    TC   \n",
       "3020        Cumber, John (?)    CO   \n",
       "2844           Webster, John    TC   \n",
       "3844          Dekker, Thomas    CO   \n",
       "1867          Rowley, Samuel    HI   \n",
       "139     Shakespeare, William    TC   \n",
       "978                    Anon.    TR   \n",
       "2387    Shakespeare, William    HI   \n",
       "3101         Campion, Thomas    MA   \n",
       "266           Greene, Robert    HI   \n",
       "2475    Shakespeare, William    TR   \n",
       "3667               Day, John    CO   \n",
       "63            Fletcher, John    TR   \n",
       "1289           Marston, John    TR   \n",
       "1330           Field, Nathan    TR   \n",
       "3875          Dekker, Thomas    EN   \n",
       "2069    Shakespeare, William    CO   \n",
       "2250    Shakespeare, William    CO   \n",
       "1188              Lyly, John    CO   \n",
       "3971                   Anon.    CO   \n",
       "1391       Middleton, Thomas    MA   \n",
       "3298         Chapman, George    MA   \n",
       "3384         Chapman, George    CO   \n",
       "2554    Shakespeare, William    TR   \n",
       "3903          Dekker, Thomas    HI   \n",
       "2812          Tomkis, Thomas    CO   \n",
       "2227    Shakespeare, William    CO   \n",
       "103           Fletcher, John    CO   \n",
       "3590          Daniel, Samuel    TR   \n",
       "1907         Rowley, William    CO   \n",
       "\n",
       "                                                   text  year  \n",
       "314   boiling beating waves passion w calm esculapiu...  1596  \n",
       "4284  living look upon death wisdom forget endeare l...  1614  \n",
       "734   death seize infamy let death come tamely suffe...  1604  \n",
       "151   punishments men applauded prescribe laws force...  1613  \n",
       "109   dotage withered brain penthea forbad presence ...  1611  \n",
       "596   kill bind alive windore hang forth devising mo...  1606  \n",
       "2347  purpose often intelligence yet bridle prevail ...  1599  \n",
       "3237  self creature therefore sooner let know may us...  1605  \n",
       "2118  men milisent suffer spiders chamber count prof...  1598  \n",
       "3281  matches soever guardians make em hope father f...  1602  \n",
       "969   jealous anger fearful arm poured rigor sinful ...  1590  \n",
       "1563  trouble content kind expense longer sojourne i...  1618  \n",
       "3194  fortune thad better far fallen amongst friends...  1607  \n",
       "175   abhorde therefore good lord since haste plaste...  1591  \n",
       "4027  mercy commands service pray lord second suite ...  1614  \n",
       "4223  constant faith mirtillo mrs since true amyntas...  1600  \n",
       "2297  hollow canes whose pouder rape seed charged tu...  1596  \n",
       "3004  trust tell patience used money hand come come ...  1619  \n",
       "1057  tombs half rot searcloaths scrapes dry gums bl...  1607  \n",
       "1438  woman jar tongues weapons words blows war buff...  1603  \n",
       "3931  look brave foe durst stay german trumpets blew...  1590  \n",
       "1424  must life closde wise achitophel whose counsel...  1604  \n",
       "744   bounty drop upon us find entrance refuse summo...  1604  \n",
       "800   reported lorenzo wrongst hieronimo suits towar...  1608  \n",
       "274   plain set soch gaudee usage show brought among...  1590  \n",
       "2407  interlude called lusty iuuentus lively describ...  1591  \n",
       "2470  banished grieved much hear sentence ha ha demo...  1592  \n",
       "4118  makes excellent must render miserable forgiven...  1615  \n",
       "2341  much queens majesty garment watchet sattine st...  1597  \n",
       "4179  modern fools well tell call fool must confess ...  1615  \n",
       "...                                                 ...   ...  \n",
       "486   psiche torn del ght rudely rent cupids paradis...  1612  \n",
       "3020  leticia deserve made old fond blockhead one wa...  1619  \n",
       "2844  grace appointed chief colonel companies mustre...  1619  \n",
       "3844  past rall sports give way pleasures nobler qua...  1599  \n",
       "1867  othello mind lady amen go seek cassio walk fin...  1604  \n",
       "139   amoretta like issue progenitors imagine rich s...  1613  \n",
       "978   like king speak ah cruel brat sprung tyrants l...  1590  \n",
       "2387  prepare galowes day upon desire blood spill ve...  1591  \n",
       "3101  know thank stars done fooleries fooleries thin...  1613  \n",
       "266   glory attempt entreat prayer since deny arm lo...  1591  \n",
       "2475  wedding ring ne remore lie divorce truly kept ...  1592  \n",
       "3667  heighten learning experience may learn arts sc...  1604  \n",
       "63    power make amoret though weary rise nimbly cou...  1617  \n",
       "1289  good know dispatch first better term faith amo...  1600  \n",
       "1330  deigne break temperance owe life command st pl...  1619  \n",
       "3875  scorns money gone thus pride still beauty dwel...  1612  \n",
       "2069  follow blessed guide holy guardian lead good a...  1597  \n",
       "2250  tomb one hand friend digs grave think feel wei...  1603  \n",
       "1188  come land strange fish leave element ask thing...  1593  \n",
       "3971  engage laws altars true gold altars falsehood ...  1590  \n",
       "1391  l lieutenant gloucester l mortim r honor sover...  1619  \n",
       "3298  powerful majesty may behold divinity king may ...  1613  \n",
       "3384  earth heavens beings chaos produced rose rebel...  1604  \n",
       "2554  ladies lucar love conscience care serve devil ...  1606  \n",
       "3903  make stay long made child cried child child go...  1602  \n",
       "2812  marriage vows whore vestall preserved quickeni...  1602  \n",
       "2227  candell light bring tite away done anon nay ta...  1590  \n",
       "103   may never see go e tear veil politic french st...  1611  \n",
       "3590  breath draw part kisses pierced meto heart suc...  1593  \n",
       "1907  upon ye cuckold cuckold lies lady lady lies ye...  1611  \n",
       "\n",
       "[864 rows x 4 columns]"
      ]
     },
     "execution_count": 14,
     "metadata": {},
     "output_type": "execute_result"
    }
   ],
   "source": [
    "test"
   ]
  },
  {
   "cell_type": "code",
   "execution_count": 15,
   "metadata": {
    "autoscroll": false,
    "ein.hycell": false,
    "ein.tags": "worksheet-0",
    "slideshow": {
     "slide_type": "-"
    }
   },
   "outputs": [],
   "source": [
    "train_tagged = train.apply(\n",
    "    lambda r: TaggedDocument(words=tokenize_text(r['text']), tags=[r.author]), axis=1)\n",
    "test_tagged = test.apply(\n",
    "    lambda r: TaggedDocument(words=tokenize_text(r['text']), tags=[r.author]), axis=1)"
   ]
  },
  {
   "cell_type": "markdown",
   "metadata": {
    "ein.tags": "worksheet-0",
    "slideshow": {
     "slide_type": "-"
    }
   },
   "source": [
    "### Define model, run, inspect\n",
    "\n",
    "In doc2vec land, dbow is equivalent to CBOW word2vec"
   ]
  },
  {
   "cell_type": "code",
   "execution_count": 16,
   "metadata": {
    "autoscroll": false,
    "ein.hycell": false,
    "ein.tags": "worksheet-0",
    "scrolled": false,
    "slideshow": {
     "slide_type": "-"
    }
   },
   "outputs": [],
   "source": [
    "cores = multiprocessing.cpu_count()\n",
    "\n",
    "model_dbow = Doc2Vec(dm=0, vector_size=300, negative=5, hs=0, min_count=2, sample = 0, workers=cores)\n",
    "model_dbow.build_vocab([x for x in train_tagged.values])"
   ]
  },
  {
   "cell_type": "code",
   "execution_count": 17,
   "metadata": {
    "autoscroll": false,
    "ein.hycell": false,
    "ein.tags": "worksheet-0",
    "slideshow": {
     "slide_type": "-"
    }
   },
   "outputs": [
    {
     "name": "stderr",
     "output_type": "stream",
     "text": [
      "100%|██████████| 3455/3455 [00:00<00:00, 1744891.07it/s]"
     ]
    },
    {
     "name": "stdout",
     "output_type": "stream",
     "text": [
      "CPU times: user 4 µs, sys: 1 µs, total: 5 µs\n",
      "Wall time: 7.87 µs\n"
     ]
    },
    {
     "name": "stderr",
     "output_type": "stream",
     "text": [
      "\n",
      "100%|██████████| 3455/3455 [00:00<00:00, 1307762.87it/s]\n",
      "100%|██████████| 3455/3455 [00:00<00:00, 1811641.50it/s]\n",
      "100%|██████████| 3455/3455 [00:00<00:00, 1827174.42it/s]\n",
      "100%|██████████| 3455/3455 [00:00<00:00, 1698466.99it/s]\n",
      "100%|██████████| 3455/3455 [00:00<00:00, 1592802.85it/s]\n",
      "100%|██████████| 3455/3455 [00:00<00:00, 1740490.07it/s]\n",
      "100%|██████████| 3455/3455 [00:00<00:00, 1818233.42it/s]\n",
      "100%|██████████| 3455/3455 [00:00<00:00, 1838766.69it/s]\n",
      "100%|██████████| 3455/3455 [00:00<00:00, 1858576.42it/s]\n",
      "100%|██████████| 3455/3455 [00:00<00:00, 1868642.21it/s]\n",
      "100%|██████████| 3455/3455 [00:00<00:00, 1563417.88it/s]\n",
      "100%|██████████| 3455/3455 [00:00<00:00, 1604797.38it/s]\n",
      "100%|██████████| 3455/3455 [00:00<00:00, 1866716.52it/s]\n",
      "100%|██████████| 3455/3455 [00:00<00:00, 1707875.11it/s]\n",
      "100%|██████████| 3455/3455 [00:00<00:00, 1632640.87it/s]\n",
      "100%|██████████| 3455/3455 [00:00<00:00, 1443646.18it/s]\n",
      "100%|██████████| 3455/3455 [00:00<00:00, 1543929.29it/s]\n",
      "100%|██████████| 3455/3455 [00:00<00:00, 1031924.83it/s]\n",
      "100%|██████████| 3455/3455 [00:00<00:00, 1225170.81it/s]\n",
      "100%|██████████| 3455/3455 [00:00<00:00, 1242397.15it/s]\n",
      "100%|██████████| 3455/3455 [00:00<00:00, 1722286.70it/s]\n",
      "100%|██████████| 3455/3455 [00:00<00:00, 1137287.74it/s]\n",
      "100%|██████████| 3455/3455 [00:00<00:00, 1482791.40it/s]\n",
      "100%|██████████| 3455/3455 [00:00<00:00, 1380388.68it/s]\n",
      "100%|██████████| 3455/3455 [00:00<00:00, 1721468.32it/s]\n",
      "100%|██████████| 3455/3455 [00:00<00:00, 1583577.79it/s]\n",
      "100%|██████████| 3455/3455 [00:00<00:00, 1691922.98it/s]\n",
      "100%|██████████| 3455/3455 [00:00<00:00, 1897266.34it/s]\n",
      "100%|██████████| 3455/3455 [00:00<00:00, 1714746.22it/s]\n"
     ]
    }
   ],
   "source": [
    "%time\n",
    "for epoch in range(30):\n",
    "    model_dbow.train(utils.shuffle([x for x in tqdm(train_tagged.values)]), total_examples=len(train_tagged.values), epochs=1)\n",
    "    model_dbow.alpha -= 0.002\n",
    "    model_dbow.min_alpha = model_dbow.alpha"
   ]
  },
  {
   "cell_type": "code",
   "execution_count": 18,
   "metadata": {
    "autoscroll": false,
    "ein.hycell": false,
    "ein.tags": "worksheet-0",
    "slideshow": {
     "slide_type": "-"
    }
   },
   "outputs": [],
   "source": [
    "y_train, X_train = vec_for_learning(model_dbow, train_tagged)\n",
    "y_test, X_test = vec_for_learning(model_dbow, test_tagged)"
   ]
  },
  {
   "cell_type": "code",
   "execution_count": 22,
   "metadata": {
    "autoscroll": false,
    "ein.hycell": false,
    "ein.tags": "worksheet-0",
    "slideshow": {
     "slide_type": "-"
    }
   },
   "outputs": [
    {
     "name": "stderr",
     "output_type": "stream",
     "text": [
      "/usr/local/lib/python3.7/site-packages/sklearn/linear_model/logistic.py:432: FutureWarning: Default solver will be changed to 'lbfgs' in 0.22. Specify a solver to silence this warning.\n",
      "  FutureWarning)\n",
      "/usr/local/lib/python3.7/site-packages/sklearn/linear_model/logistic.py:459: FutureWarning: Default multi_class will be changed to 'auto' in 0.22. Specify the multi_class option to silence this warning.\n",
      "  \"this warning.\", FutureWarning)\n",
      "/usr/local/lib/python3.7/site-packages/sklearn/svm/base.py:922: ConvergenceWarning: Liblinear failed to converge, increase the number of iterations.\n",
      "  \"the number of iterations.\", ConvergenceWarning)\n"
     ]
    }
   ],
   "source": [
    "logreg = LogisticRegression(n_jobs=1, C=1e5)\n",
    "logreg.fit(X_train, y_train)\n",
    "y_pred = logreg.predict(X_test)"
   ]
  },
  {
   "cell_type": "code",
   "execution_count": 23,
   "metadata": {
    "autoscroll": false,
    "ein.hycell": false,
    "ein.tags": "worksheet-0",
    "slideshow": {
     "slide_type": "-"
    }
   },
   "outputs": [
    {
     "name": "stdout",
     "output_type": "stream",
     "text": [
      "Testing accuracy 0.06712962962962964\n",
      "Testing F1 score: 0.06228316442031905\n"
     ]
    },
    {
     "name": "stderr",
     "output_type": "stream",
     "text": [
      "/usr/local/lib/python3.7/site-packages/sklearn/metrics/classification.py:1143: UndefinedMetricWarning: F-score is ill-defined and being set to 0.0 in labels with no predicted samples.\n",
      "  'precision', 'predicted', average, warn_for)\n"
     ]
    }
   ],
   "source": [
    "print('Testing accuracy %s' % accuracy_score(y_test, y_pred))\n",
    "print('Testing F1 score: {}'.format(f1_score(y_test, y_pred, average='weighted')))"
   ]
  },
  {
   "cell_type": "markdown",
   "metadata": {
    "ein.tags": "worksheet-0",
    "slideshow": {
     "slide_type": "-"
    }
   },
   "source": [
    "### Distributed memory model\n",
    "\n",
    "Equivalent to skip-gram word2vec"
   ]
  },
  {
   "cell_type": "code",
   "execution_count": 24,
   "metadata": {
    "autoscroll": false,
    "ein.hycell": false,
    "ein.tags": "worksheet-0",
    "slideshow": {
     "slide_type": "-"
    }
   },
   "outputs": [
    {
     "name": "stderr",
     "output_type": "stream",
     "text": [
      "100%|██████████| 3455/3455 [00:00<00:00, 1374236.16it/s]\n"
     ]
    }
   ],
   "source": [
    "model_dmm = Doc2Vec(dm=1, dm_mean=1, vector_size=300, window=10, negative=5, min_count=1, workers=5, alpha=0.065, min_alpha=0.065)\n",
    "model_dmm.build_vocab([x for x in tqdm(train_tagged.values)])"
   ]
  },
  {
   "cell_type": "code",
   "execution_count": 25,
   "metadata": {
    "autoscroll": false,
    "ein.hycell": false,
    "ein.tags": "worksheet-0",
    "slideshow": {
     "slide_type": "-"
    }
   },
   "outputs": [
    {
     "name": "stderr",
     "output_type": "stream",
     "text": [
      "100%|██████████| 3455/3455 [00:00<00:00, 1417659.98it/s]"
     ]
    },
    {
     "name": "stdout",
     "output_type": "stream",
     "text": [
      "CPU times: user 4 µs, sys: 1e+03 ns, total: 5 µs\n",
      "Wall time: 8.11 µs\n"
     ]
    },
    {
     "name": "stderr",
     "output_type": "stream",
     "text": [
      "\n",
      "100%|██████████| 3455/3455 [00:00<00:00, 1847675.68it/s]\n",
      "100%|██████████| 3455/3455 [00:00<00:00, 1709486.88it/s]\n",
      "100%|██████████| 3455/3455 [00:00<00:00, 1933465.02it/s]\n",
      "100%|██████████| 3455/3455 [00:00<00:00, 1878574.06it/s]\n",
      "100%|██████████| 3455/3455 [00:00<00:00, 1762934.35it/s]\n",
      "100%|██████████| 3455/3455 [00:00<00:00, 1750370.86it/s]\n",
      "100%|██████████| 3455/3455 [00:00<00:00, 1540318.91it/s]\n",
      "100%|██████████| 3455/3455 [00:00<00:00, 1884927.20it/s]\n",
      "100%|██████████| 3455/3455 [00:00<00:00, 1493796.55it/s]\n",
      "100%|██████████| 3455/3455 [00:00<00:00, 1854532.93it/s]\n",
      "100%|██████████| 3455/3455 [00:00<00:00, 1787507.13it/s]\n",
      "100%|██████████| 3455/3455 [00:00<00:00, 1603376.89it/s]\n",
      "100%|██████████| 3455/3455 [00:00<00:00, 1629886.44it/s]\n",
      "100%|██████████| 3455/3455 [00:00<00:00, 1513453.82it/s]\n",
      "100%|██████████| 3455/3455 [00:00<00:00, 1934755.72it/s]\n",
      "100%|██████████| 3455/3455 [00:00<00:00, 1698666.08it/s]\n",
      "100%|██████████| 3455/3455 [00:00<00:00, 1686213.67it/s]\n",
      "100%|██████████| 3455/3455 [00:00<00:00, 1501535.63it/s]\n",
      "100%|██████████| 3455/3455 [00:00<00:00, 1463178.55it/s]\n",
      "100%|██████████| 3455/3455 [00:00<00:00, 1879792.49it/s]\n",
      "100%|██████████| 3455/3455 [00:00<00:00, 1821432.92it/s]\n",
      "100%|██████████| 3455/3455 [00:00<00:00, 1877843.76it/s]\n",
      "100%|██████████| 3455/3455 [00:00<00:00, 1537703.77it/s]\n",
      "100%|██████████| 3455/3455 [00:00<00:00, 1685429.21it/s]\n",
      "100%|██████████| 3455/3455 [00:00<00:00, 1871538.20it/s]\n",
      "100%|██████████| 3455/3455 [00:00<00:00, 1841804.82it/s]\n",
      "100%|██████████| 3455/3455 [00:00<00:00, 1631354.31it/s]\n",
      "100%|██████████| 3455/3455 [00:00<00:00, 1732582.53it/s]\n",
      "100%|██████████| 3455/3455 [00:00<00:00, 1744051.07it/s]\n"
     ]
    }
   ],
   "source": [
    "%time\n",
    "for epoch in range(30):\n",
    "    model_dmm.train(utils.shuffle([x for x in tqdm(train_tagged.values)]), total_examples=len(train_tagged.values), epochs=1)\n",
    "    model_dmm.alpha -= 0.002\n",
    "    model_dmm.min_alpha = model_dmm.alpha"
   ]
  },
  {
   "cell_type": "code",
   "execution_count": 26,
   "metadata": {
    "autoscroll": false,
    "ein.hycell": false,
    "ein.tags": "worksheet-0",
    "slideshow": {
     "slide_type": "-"
    }
   },
   "outputs": [
    {
     "name": "stderr",
     "output_type": "stream",
     "text": [
      "/usr/local/lib/python3.7/site-packages/sklearn/linear_model/logistic.py:432: FutureWarning: Default solver will be changed to 'lbfgs' in 0.22. Specify a solver to silence this warning.\n",
      "  FutureWarning)\n",
      "/usr/local/lib/python3.7/site-packages/sklearn/linear_model/logistic.py:459: FutureWarning: Default multi_class will be changed to 'auto' in 0.22. Specify the multi_class option to silence this warning.\n",
      "  \"this warning.\", FutureWarning)\n"
     ]
    },
    {
     "name": "stdout",
     "output_type": "stream",
     "text": [
      "Testing accuracy 0.6550925925925926\n",
      "Testing F1 score: 0.6594176095542204\n"
     ]
    },
    {
     "name": "stderr",
     "output_type": "stream",
     "text": [
      "/usr/local/lib/python3.7/site-packages/sklearn/metrics/classification.py:1143: UndefinedMetricWarning: F-score is ill-defined and being set to 0.0 in labels with no predicted samples.\n",
      "  'precision', 'predicted', average, warn_for)\n"
     ]
    }
   ],
   "source": [
    "y_train, X_train = vec_for_learning(model_dmm, train_tagged)\n",
    "y_test, X_test = vec_for_learning(model_dmm, test_tagged)\n",
    "\n",
    "logreg.fit(X_train, y_train)\n",
    "y_pred = logreg.predict(X_test)\n",
    "\n",
    "print('Testing accuracy %s' % accuracy_score(y_test, y_pred))\n",
    "print('Testing F1 score: {}'.format(f1_score(y_test, y_pred, average='weighted')))"
   ]
  },
  {
   "cell_type": "code",
   "execution_count": 23,
   "metadata": {
    "autoscroll": false,
    "ein.hycell": false,
    "ein.tags": "worksheet-0",
    "slideshow": {
     "slide_type": "-"
    }
   },
   "outputs": [],
   "source": [
    "#model_dbow.delete_temporary_training_data(keep_doctags_vectors=True, keep_inference=True)\n",
    "#model_dmm.delete_temporary_training_data(keep_doctags_vectors=True, keep_inference=True)"
   ]
  },
  {
   "cell_type": "markdown",
   "metadata": {
    "ein.tags": "worksheet-0",
    "slideshow": {
     "slide_type": "-"
    }
   },
   "source": [
    "### Concatenate"
   ]
  },
  {
   "cell_type": "code",
   "execution_count": 28,
   "metadata": {
    "autoscroll": false,
    "ein.hycell": false,
    "ein.tags": "worksheet-0",
    "slideshow": {
     "slide_type": "-"
    }
   },
   "outputs": [],
   "source": [
    "from gensim.test.test_doc2vec import ConcatenatedDoc2Vec\n",
    "new_model = ConcatenatedDoc2Vec([model_dbow, model_dmm])"
   ]
  },
  {
   "cell_type": "code",
   "execution_count": 29,
   "metadata": {
    "autoscroll": false,
    "ein.hycell": false,
    "ein.tags": "worksheet-0",
    "slideshow": {
     "slide_type": "-"
    }
   },
   "outputs": [],
   "source": [
    "def get_vectors(model, tagged_docs):\n",
    "    sents = tagged_docs.values\n",
    "    targets, regressors = zip(*[(doc.tags[0], model.infer_vector(doc.words, steps=20)) for doc in sents])\n",
    "    return targets, regressors"
   ]
  },
  {
   "cell_type": "code",
   "execution_count": 30,
   "metadata": {
    "autoscroll": false,
    "ein.hycell": false,
    "ein.tags": "worksheet-0",
    "slideshow": {
     "slide_type": "-"
    }
   },
   "outputs": [],
   "source": [
    "y_train, X_train = get_vectors(new_model, train_tagged)\n",
    "y_test, X_test = get_vectors(new_model, test_tagged)"
   ]
  },
  {
   "cell_type": "code",
   "execution_count": 31,
   "metadata": {
    "autoscroll": false,
    "ein.hycell": false,
    "ein.tags": "worksheet-0",
    "slideshow": {
     "slide_type": "-"
    }
   },
   "outputs": [
    {
     "name": "stderr",
     "output_type": "stream",
     "text": [
      "/usr/local/lib/python3.7/site-packages/sklearn/linear_model/logistic.py:432: FutureWarning: Default solver will be changed to 'lbfgs' in 0.22. Specify a solver to silence this warning.\n",
      "  FutureWarning)\n",
      "/usr/local/lib/python3.7/site-packages/sklearn/linear_model/logistic.py:459: FutureWarning: Default multi_class will be changed to 'auto' in 0.22. Specify the multi_class option to silence this warning.\n",
      "  \"this warning.\", FutureWarning)\n"
     ]
    },
    {
     "name": "stdout",
     "output_type": "stream",
     "text": [
      "Testing accuracy 0.6921296296296297\n",
      "Testing F1 score: 0.6747483413083705\n"
     ]
    },
    {
     "name": "stderr",
     "output_type": "stream",
     "text": [
      "/usr/local/lib/python3.7/site-packages/sklearn/metrics/classification.py:1143: UndefinedMetricWarning: F-score is ill-defined and being set to 0.0 in labels with no predicted samples.\n",
      "  'precision', 'predicted', average, warn_for)\n"
     ]
    }
   ],
   "source": [
    "logreg.fit(X_train, y_train)\n",
    "y_pred = logreg.predict(X_test)\n",
    "\n",
    "print('Testing accuracy %s' % accuracy_score(y_test, y_pred))\n",
    "print('Testing F1 score: {}'.format(f1_score(y_test, y_pred, average='weighted')))"
   ]
  },
  {
   "cell_type": "markdown",
   "metadata": {
    "ein.tags": "worksheet-0",
    "slideshow": {
     "slide_type": "-"
    }
   },
   "source": [
    "### Predictions!"
   ]
  },
  {
   "cell_type": "code",
   "execution_count": 212,
   "metadata": {
    "autoscroll": false,
    "ein.hycell": false,
    "ein.tags": "worksheet-0",
    "slideshow": {
     "slide_type": "-"
    }
   },
   "outputs": [],
   "source": [
    "file = open(\"/Users/au564346/Documents/research/LINK/LINK-master/dat/VEP_expanded_drama_1700_v2_txt/corpus/A04520.headed_002_part_001.txt\").read()"
   ]
  },
  {
   "cell_type": "code",
   "execution_count": 310,
   "metadata": {
    "autoscroll": false,
    "ein.hycell": false,
    "ein.tags": "worksheet-0",
    "slideshow": {
     "slide_type": "-"
    }
   },
   "outputs": [],
   "source": [
    "val = int(len(file)*0.1)"
   ]
  },
  {
   "cell_type": "code",
   "execution_count": 311,
   "metadata": {
    "autoscroll": false,
    "ein.hycell": false,
    "ein.tags": "worksheet-0",
    "slideshow": {
     "slide_type": "-"
    }
   },
   "outputs": [],
   "source": [
    "sentences = splitter(file, val)"
   ]
  },
  {
   "cell_type": "code",
   "execution_count": 305,
   "metadata": {
    "autoscroll": false,
    "ein.hycell": false,
    "ein.tags": "worksheet-0",
    "slideshow": {
     "slide_type": "-"
    }
   },
   "outputs": [],
   "source": [
    "cleaned = [word for word in sentences if word not in stops]"
   ]
  },
  {
   "cell_type": "code",
   "execution_count": 306,
   "metadata": {
    "autoscroll": false,
    "ein.hycell": false,
    "ein.tags": "worksheet-0",
    "slideshow": {
     "slide_type": "-"
    }
   },
   "outputs": [],
   "source": [
    "inferred_vector = [model_dmm.infer_vector(sent) for sent in cleaned]"
   ]
  },
  {
   "cell_type": "code",
   "execution_count": 307,
   "metadata": {
    "autoscroll": false,
    "ein.hycell": false,
    "ein.tags": "worksheet-0",
    "slideshow": {
     "slide_type": "-"
    }
   },
   "outputs": [],
   "source": [
    "predictions = []\n",
    "for i in range(len(cleaned)):\n",
    "    p = model_dmm.docvecs.most_similar(positive=[model_dmm.infer_vector(cleaned[i])],topn=5)\n",
    "    predictions.append(p)"
   ]
  },
  {
   "cell_type": "code",
   "execution_count": 308,
   "metadata": {
    "autoscroll": false,
    "ein.hycell": false,
    "ein.tags": "worksheet-0",
    "scrolled": true,
    "slideshow": {
     "slide_type": "-"
    }
   },
   "outputs": [
    {
     "data": {
      "text/plain": [
       "[[('Peele, George', 0.3396719694137573),\n",
       "  ('Shirley, Henry', 0.284935861825943),\n",
       "  ('Stephens, John', 0.2832583785057068),\n",
       "  ('Porter, Henry', 0.2815849483013153),\n",
       "  ('Shakespeare, William', 0.27401331067085266)],\n",
       " [('Stephens, John', 0.3410383462905884),\n",
       "  ('Shirley, Henry', 0.313082218170166),\n",
       "  ('Fisher, Jasper', 0.3027588129043579),\n",
       "  ('A., R.', 0.285976767539978),\n",
       "  ('Porter, Henry', 0.2854048013687134)]]"
      ]
     },
     "execution_count": 308,
     "metadata": {},
     "output_type": "execute_result"
    }
   ],
   "source": [
    "predictions"
   ]
  },
  {
   "cell_type": "code",
   "execution_count": 297,
   "metadata": {
    "autoscroll": false,
    "ein.hycell": false,
    "ein.tags": "worksheet-0",
    "slideshow": {
     "slide_type": "-"
    }
   },
   "outputs": [],
   "source": [
    "l = []\n",
    "for row in range(len(predictions)):\n",
    "    i, j = predictions[row][0]\n",
    "    arr = np.array([i, j])\n",
    "    l.append(arr)"
   ]
  },
  {
   "cell_type": "code",
   "execution_count": 298,
   "metadata": {
    "autoscroll": false,
    "ein.hycell": false,
    "ein.tags": "worksheet-0",
    "slideshow": {
     "slide_type": "-"
    }
   },
   "outputs": [],
   "source": [
    "data = pd.DataFrame(l)\n",
    "data.columns = [\"author\", \"prediction%\"]\n",
    "data[\"prediction%\"] = data[\"prediction%\"].astype('float')\n",
    "data['author'] = [x.strip('(?)') for x in data[\"author\"]]\n",
    "data['author'] = [x.strip(' ') for x in data[\"author\"]]"
   ]
  },
  {
   "cell_type": "code",
   "execution_count": 299,
   "metadata": {
    "autoscroll": false,
    "ein.hycell": false,
    "ein.tags": "worksheet-0",
    "slideshow": {
     "slide_type": "-"
    }
   },
   "outputs": [],
   "source": [
    "data['count'] = data.groupby('author')['author'].transform('count')"
   ]
  },
  {
   "cell_type": "code",
   "execution_count": 300,
   "metadata": {
    "autoscroll": false,
    "ein.hycell": false,
    "ein.tags": "worksheet-0",
    "slideshow": {
     "slide_type": "-"
    }
   },
   "outputs": [],
   "source": [
    "data[\"segment%\"] = data[\"count\"]/len(data)"
   ]
  },
  {
   "cell_type": "code",
   "execution_count": 301,
   "metadata": {
    "autoscroll": false,
    "ein.hycell": false,
    "ein.tags": "worksheet-0",
    "slideshow": {
     "slide_type": "-"
    }
   },
   "outputs": [
    {
     "data": {
      "text/plain": [
       "0    Peele, George\n",
       "dtype: object"
      ]
     },
     "execution_count": 301,
     "metadata": {},
     "output_type": "execute_result"
    }
   ],
   "source": [
    "data[\"author\"].mode()"
   ]
  },
  {
   "cell_type": "code",
   "execution_count": 302,
   "metadata": {
    "autoscroll": false,
    "ein.hycell": false,
    "ein.tags": "worksheet-0",
    "slideshow": {
     "slide_type": "-"
    }
   },
   "outputs": [
    {
     "data": {
      "text/html": [
       "<div>\n",
       "<style scoped>\n",
       "    .dataframe tbody tr th:only-of-type {\n",
       "        vertical-align: middle;\n",
       "    }\n",
       "\n",
       "    .dataframe tbody tr th {\n",
       "        vertical-align: top;\n",
       "    }\n",
       "\n",
       "    .dataframe thead th {\n",
       "        text-align: right;\n",
       "    }\n",
       "</style>\n",
       "<table border=\"1\" class=\"dataframe\">\n",
       "  <thead>\n",
       "    <tr style=\"text-align: right;\">\n",
       "      <th></th>\n",
       "      <th>author</th>\n",
       "      <th>prediction%</th>\n",
       "      <th>count</th>\n",
       "      <th>segment%</th>\n",
       "    </tr>\n",
       "  </thead>\n",
       "  <tbody>\n",
       "    <tr>\n",
       "      <th>0</th>\n",
       "      <td>Marston, John</td>\n",
       "      <td>0.352833</td>\n",
       "      <td>1</td>\n",
       "      <td>0.052632</td>\n",
       "    </tr>\n",
       "    <tr>\n",
       "      <th>1</th>\n",
       "      <td>Peele, George</td>\n",
       "      <td>0.342156</td>\n",
       "      <td>3</td>\n",
       "      <td>0.157895</td>\n",
       "    </tr>\n",
       "    <tr>\n",
       "      <th>2</th>\n",
       "      <td>Greville, Fulke</td>\n",
       "      <td>0.351919</td>\n",
       "      <td>1</td>\n",
       "      <td>0.052632</td>\n",
       "    </tr>\n",
       "    <tr>\n",
       "      <th>3</th>\n",
       "      <td>Marlowe, Christopher</td>\n",
       "      <td>0.246548</td>\n",
       "      <td>1</td>\n",
       "      <td>0.052632</td>\n",
       "    </tr>\n",
       "    <tr>\n",
       "      <th>4</th>\n",
       "      <td>Peele, George</td>\n",
       "      <td>0.202971</td>\n",
       "      <td>3</td>\n",
       "      <td>0.157895</td>\n",
       "    </tr>\n",
       "    <tr>\n",
       "      <th>5</th>\n",
       "      <td>Porter, Henry</td>\n",
       "      <td>0.131705</td>\n",
       "      <td>2</td>\n",
       "      <td>0.105263</td>\n",
       "    </tr>\n",
       "    <tr>\n",
       "      <th>6</th>\n",
       "      <td>Porter, Henry</td>\n",
       "      <td>0.289495</td>\n",
       "      <td>2</td>\n",
       "      <td>0.105263</td>\n",
       "    </tr>\n",
       "    <tr>\n",
       "      <th>7</th>\n",
       "      <td>Jonson, Ben</td>\n",
       "      <td>0.357776</td>\n",
       "      <td>1</td>\n",
       "      <td>0.052632</td>\n",
       "    </tr>\n",
       "    <tr>\n",
       "      <th>8</th>\n",
       "      <td>Smith, Wentworth</td>\n",
       "      <td>0.289037</td>\n",
       "      <td>1</td>\n",
       "      <td>0.052632</td>\n",
       "    </tr>\n",
       "    <tr>\n",
       "      <th>9</th>\n",
       "      <td>Stephens, John</td>\n",
       "      <td>0.182706</td>\n",
       "      <td>2</td>\n",
       "      <td>0.105263</td>\n",
       "    </tr>\n",
       "    <tr>\n",
       "      <th>10</th>\n",
       "      <td>Haughton, William</td>\n",
       "      <td>0.261367</td>\n",
       "      <td>1</td>\n",
       "      <td>0.052632</td>\n",
       "    </tr>\n",
       "    <tr>\n",
       "      <th>11</th>\n",
       "      <td>Stephens, John</td>\n",
       "      <td>0.288942</td>\n",
       "      <td>2</td>\n",
       "      <td>0.105263</td>\n",
       "    </tr>\n",
       "    <tr>\n",
       "      <th>12</th>\n",
       "      <td>Peele, George</td>\n",
       "      <td>0.316106</td>\n",
       "      <td>3</td>\n",
       "      <td>0.157895</td>\n",
       "    </tr>\n",
       "    <tr>\n",
       "      <th>13</th>\n",
       "      <td>Nashe, Thomas</td>\n",
       "      <td>0.048711</td>\n",
       "      <td>1</td>\n",
       "      <td>0.052632</td>\n",
       "    </tr>\n",
       "    <tr>\n",
       "      <th>14</th>\n",
       "      <td>Rowley, Samuel</td>\n",
       "      <td>0.244911</td>\n",
       "      <td>1</td>\n",
       "      <td>0.052632</td>\n",
       "    </tr>\n",
       "    <tr>\n",
       "      <th>15</th>\n",
       "      <td>Fisher, Jasper</td>\n",
       "      <td>0.150952</td>\n",
       "      <td>2</td>\n",
       "      <td>0.105263</td>\n",
       "    </tr>\n",
       "    <tr>\n",
       "      <th>16</th>\n",
       "      <td>Anon.</td>\n",
       "      <td>0.148335</td>\n",
       "      <td>1</td>\n",
       "      <td>0.052632</td>\n",
       "    </tr>\n",
       "    <tr>\n",
       "      <th>17</th>\n",
       "      <td>Fisher, Jasper</td>\n",
       "      <td>0.207340</td>\n",
       "      <td>2</td>\n",
       "      <td>0.105263</td>\n",
       "    </tr>\n",
       "    <tr>\n",
       "      <th>18</th>\n",
       "      <td>Armin, Robert</td>\n",
       "      <td>0.242794</td>\n",
       "      <td>1</td>\n",
       "      <td>0.052632</td>\n",
       "    </tr>\n",
       "  </tbody>\n",
       "</table>\n",
       "</div>"
      ],
      "text/plain": [
       "                  author  prediction%  count  segment%\n",
       "0          Marston, John     0.352833      1  0.052632\n",
       "1          Peele, George     0.342156      3  0.157895\n",
       "2        Greville, Fulke     0.351919      1  0.052632\n",
       "3   Marlowe, Christopher     0.246548      1  0.052632\n",
       "4          Peele, George     0.202971      3  0.157895\n",
       "5          Porter, Henry     0.131705      2  0.105263\n",
       "6          Porter, Henry     0.289495      2  0.105263\n",
       "7            Jonson, Ben     0.357776      1  0.052632\n",
       "8       Smith, Wentworth     0.289037      1  0.052632\n",
       "9         Stephens, John     0.182706      2  0.105263\n",
       "10     Haughton, William     0.261367      1  0.052632\n",
       "11        Stephens, John     0.288942      2  0.105263\n",
       "12         Peele, George     0.316106      3  0.157895\n",
       "13         Nashe, Thomas     0.048711      1  0.052632\n",
       "14        Rowley, Samuel     0.244911      1  0.052632\n",
       "15        Fisher, Jasper     0.150952      2  0.105263\n",
       "16                 Anon.     0.148335      1  0.052632\n",
       "17        Fisher, Jasper     0.207340      2  0.105263\n",
       "18         Armin, Robert     0.242794      1  0.052632"
      ]
     },
     "execution_count": 302,
     "metadata": {},
     "output_type": "execute_result"
    }
   ],
   "source": [
    "data"
   ]
  },
  {
   "cell_type": "code",
   "execution_count": null,
   "metadata": {
    "autoscroll": false,
    "ein.hycell": false,
    "ein.tags": "worksheet-0",
    "slideshow": {
     "slide_type": "-"
    }
   },
   "outputs": [],
   "source": []
  }
 ],
 "metadata": {
  "kernelspec": {
   "display_name": "Python 3",
   "language": "python",
   "name": "python3"
  },
  "language_info": {
   "codemirror_mode": {
    "name": "ipython",
    "version": 3
   },
   "file_extension": ".py",
   "mimetype": "text/x-python",
   "name": "python",
   "nbconvert_exporter": "python",
   "pygments_lexer": "ipython3",
   "version": "3.7.2"
  },
  "name": "EarlyModern.doc2vec.ipynb"
 },
 "nbformat": 4,
 "nbformat_minor": 2
}
